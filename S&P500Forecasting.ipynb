{
  "nbformat": 4,
  "nbformat_minor": 0,
  "metadata": {
    "colab": {
      "name": "S&P500Forecasting.ipynb",
      "provenance": [],
      "collapsed_sections": [
        "QGAr8_Iitayo"
      ]
    },
    "kernelspec": {
      "name": "python3",
      "display_name": "Python 3"
    }
  },
  "cells": [
    {
      "cell_type": "markdown",
      "metadata": {
        "id": "0RIKVmd6B_oc",
        "colab_type": "text"
      },
      "source": [
        "# Importing & Preparing Data"
      ]
    },
    {
      "cell_type": "code",
      "metadata": {
        "id": "oxkJ8ie19MaN",
        "colab_type": "code",
        "colab": {
          "resources": {
            "http://localhost:8080/nbextensions/google.colab/files.js": {
              "data": "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",
              "ok": true,
              "headers": [
                [
                  "content-type",
                  "application/javascript"
                ]
              ],
              "status": 200,
              "status_text": ""
            }
          },
          "base_uri": "https://localhost:8080/",
          "height": 71
        },
        "outputId": "77141648-9114-4ed4-c98e-d292995a7eda"
      },
      "source": [
        "from google.colab import files\n",
        "uploaded = files.upload()"
      ],
      "execution_count": 93,
      "outputs": [
        {
          "output_type": "display_data",
          "data": {
            "text/html": [
              "\n",
              "     <input type=\"file\" id=\"files-f59c15eb-cbd8-46cd-b481-b73f1891c57c\" name=\"files[]\" multiple disabled />\n",
              "     <output id=\"result-f59c15eb-cbd8-46cd-b481-b73f1891c57c\">\n",
              "      Upload widget is only available when the cell has been executed in the\n",
              "      current browser session. Please rerun this cell to enable.\n",
              "      </output>\n",
              "      <script src=\"/nbextensions/google.colab/files.js\"></script> "
            ],
            "text/plain": [
              "<IPython.core.display.HTML object>"
            ]
          },
          "metadata": {
            "tags": []
          }
        },
        {
          "output_type": "stream",
          "text": [
            "Saving sp.csv to sp (1).csv\n"
          ],
          "name": "stdout"
        }
      ]
    },
    {
      "cell_type": "code",
      "metadata": {
        "id": "NdTNiGGCCKgv",
        "colab_type": "code",
        "outputId": "060cba51-f5bb-4812-81b2-f434f5cb4f12",
        "colab": {
          "base_uri": "https://localhost:8080/",
          "height": 204
        }
      },
      "source": [
        "import pandas as pd\n",
        "import numpy as np\n",
        "import matplotlib.pyplot as plt\n",
        "import seaborn as sns\n",
        "from scipy import stats\n",
        "import io\n",
        "df = pd.read_csv(io.BytesIO(uploaded['sp.csv'])) \n",
        "df = df.sort_values(by = 'DATE')\n",
        "df['lnret'] = np.log(1+df['sprtrn'])\n",
        "df['sqlnret'] = df['lnret']**2\n",
        "df.head()"
      ],
      "execution_count": 194,
      "outputs": [
        {
          "output_type": "execute_result",
          "data": {
            "text/html": [
              "<div>\n",
              "<style scoped>\n",
              "    .dataframe tbody tr th:only-of-type {\n",
              "        vertical-align: middle;\n",
              "    }\n",
              "\n",
              "    .dataframe tbody tr th {\n",
              "        vertical-align: top;\n",
              "    }\n",
              "\n",
              "    .dataframe thead th {\n",
              "        text-align: right;\n",
              "    }\n",
              "</style>\n",
              "<table border=\"1\" class=\"dataframe\">\n",
              "  <thead>\n",
              "    <tr style=\"text-align: right;\">\n",
              "      <th></th>\n",
              "      <th>DATE</th>\n",
              "      <th>sprtrn</th>\n",
              "      <th>spindx</th>\n",
              "      <th>lnret</th>\n",
              "      <th>sqlnret</th>\n",
              "    </tr>\n",
              "  </thead>\n",
              "  <tbody>\n",
              "    <tr>\n",
              "      <th>0</th>\n",
              "      <td>19630102</td>\n",
              "      <td>-0.006498</td>\n",
              "      <td>62.69</td>\n",
              "      <td>-0.006519</td>\n",
              "      <td>4.250002e-05</td>\n",
              "    </tr>\n",
              "    <tr>\n",
              "      <th>1</th>\n",
              "      <td>19630103</td>\n",
              "      <td>0.016430</td>\n",
              "      <td>63.72</td>\n",
              "      <td>0.016296</td>\n",
              "      <td>2.655755e-04</td>\n",
              "    </tr>\n",
              "    <tr>\n",
              "      <th>2</th>\n",
              "      <td>19630104</td>\n",
              "      <td>0.006434</td>\n",
              "      <td>64.13</td>\n",
              "      <td>0.006413</td>\n",
              "      <td>4.113157e-05</td>\n",
              "    </tr>\n",
              "    <tr>\n",
              "      <th>3</th>\n",
              "      <td>19630107</td>\n",
              "      <td>-0.000156</td>\n",
              "      <td>64.12</td>\n",
              "      <td>-0.000156</td>\n",
              "      <td>2.433980e-08</td>\n",
              "    </tr>\n",
              "    <tr>\n",
              "      <th>4</th>\n",
              "      <td>19630108</td>\n",
              "      <td>0.009669</td>\n",
              "      <td>64.74</td>\n",
              "      <td>0.009623</td>\n",
              "      <td>9.259355e-05</td>\n",
              "    </tr>\n",
              "  </tbody>\n",
              "</table>\n",
              "</div>"
            ],
            "text/plain": [
              "       DATE    sprtrn  spindx     lnret       sqlnret\n",
              "0  19630102 -0.006498   62.69 -0.006519  4.250002e-05\n",
              "1  19630103  0.016430   63.72  0.016296  2.655755e-04\n",
              "2  19630104  0.006434   64.13  0.006413  4.113157e-05\n",
              "3  19630107 -0.000156   64.12 -0.000156  2.433980e-08\n",
              "4  19630108  0.009669   64.74  0.009623  9.259355e-05"
            ]
          },
          "metadata": {
            "tags": []
          },
          "execution_count": 194
        }
      ]
    },
    {
      "cell_type": "markdown",
      "metadata": {
        "id": "QGAr8_Iitayo",
        "colab_type": "text"
      },
      "source": [
        "# Exploratory Data Analysis"
      ]
    },
    {
      "cell_type": "markdown",
      "metadata": {
        "id": "9mnCpLXsCfar",
        "colab_type": "text"
      },
      "source": [
        "We decided to use log returns as they are assumed to better fit the normality assumption."
      ]
    },
    {
      "cell_type": "code",
      "metadata": {
        "id": "MbR4N6xBCORM",
        "colab_type": "code",
        "colab": {}
      },
      "source": [
        "df['lnret'] = np.log(1+df['sprtrn'])"
      ],
      "execution_count": 0,
      "outputs": []
    },
    {
      "cell_type": "code",
      "metadata": {
        "id": "4q15fRIJCyGg",
        "colab_type": "code",
        "colab": {}
      },
      "source": [
        "df['sqlnret'] = df['lnret']**2"
      ],
      "execution_count": 0,
      "outputs": []
    },
    {
      "cell_type": "markdown",
      "metadata": {
        "id": "5a8ZwReSubOJ",
        "colab_type": "text"
      },
      "source": [
        "Let's check the normality assumption by conducting a Jarque-Bera Test. We will test the null hypothesis that daily returns are normally distributed. "
      ]
    },
    {
      "cell_type": "code",
      "metadata": {
        "id": "fqxM2vkZ7u7v",
        "colab_type": "code",
        "outputId": "f192ffc9-471f-4be0-887c-eb473b07023d",
        "colab": {
          "base_uri": "https://localhost:8080/",
          "height": 34
        }
      },
      "source": [
        "stats.jarque_bera(df['lnret'])"
      ],
      "execution_count": 0,
      "outputs": [
        {
          "output_type": "execute_result",
          "data": {
            "text/plain": [
              "(435247.0031345941, 0.0)"
            ]
          },
          "metadata": {
            "tags": []
          },
          "execution_count": 5
        }
      ]
    },
    {
      "cell_type": "markdown",
      "metadata": {
        "id": "QRYX7wy3DaPi",
        "colab_type": "text"
      },
      "source": [
        "With a p-value of close to 0 and a test statistic of 435,247, we can reject the null hypothesis.\n",
        "This suggests that daily log returns are not normally distributed. "
      ]
    },
    {
      "cell_type": "markdown",
      "metadata": {
        "id": "t8oyD34kRSRH",
        "colab_type": "text"
      },
      "source": [
        "Let's figure out where the abnormality comes from."
      ]
    },
    {
      "cell_type": "code",
      "metadata": {
        "id": "kFjHA1OSRcYD",
        "colab_type": "code",
        "colab": {}
      },
      "source": [
        "stats.kurtosis(df['lnret'])"
      ],
      "execution_count": 0,
      "outputs": []
    },
    {
      "cell_type": "markdown",
      "metadata": {
        "id": "70y2_4MnRt_q",
        "colab_type": "text"
      },
      "source": [
        "[Scipy.stats.kurtosis](https://docs.scipy.org/doc/scipy/reference/generated/scipy.stats.kurtosis.html) calculates Fisher's definition of kurtosis by default. Thus 3 is subtracted from the result and the xxx is excess kurtosis (compared to a normal distribution, which has a kurtosis of 3). Consequently, we can observe that the distribution hat fat tails and the probability for the occurence of more extreme outliers is larger than in a normal distribution. "
      ]
    },
    {
      "cell_type": "code",
      "metadata": {
        "id": "tlsX07rcRtaA",
        "colab_type": "code",
        "colab": {}
      },
      "source": [
        "stats.skew(df['lnret'])"
      ],
      "execution_count": 0,
      "outputs": []
    },
    {
      "cell_type": "code",
      "metadata": {
        "id": "eYarCd4ezsuZ",
        "colab_type": "code",
        "outputId": "2ec7b1ef-e230-43fb-f8d9-cc8c925db980",
        "colab": {
          "base_uri": "https://localhost:8080/",
          "height": 508
        }
      },
      "source": [
        "%matplotlib inline\n",
        "fig = plt.figure(figsize=(10,7), dpi= 80)\n",
        "kwargs = dict(hist_kws={'alpha':.6}, kde_kws={'linewidth':2})\n",
        "sns.distplot(df['lnret'], label='daily log returns', color = 'steelblue', **kwargs)\n",
        "plt.xlim(-0.2,0.1)\n",
        "plt.title('Distribution of daily S&P500 returns from 1963 - 2019', fontsize = 15)\n",
        "plt.grid(color = 'grey', alpha = 0.5, linestyle = '--')\n",
        "plt.xlabel('Daily return')\n",
        "plt.show()"
      ],
      "execution_count": 0,
      "outputs": [
        {
          "output_type": "display_data",
          "data": {
            "image/png": "[encoded data removed]",
            "text/plain": [
              "<Figure size 800x560 with 1 Axes>"
            ]
          },
          "metadata": {
            "tags": [],
            "needs_background": "light"
          }
        }
      ]
    },
    {
      "cell_type": "markdown",
      "metadata": {
        "id": "2G_E5FMLCIcV",
        "colab_type": "text"
      },
      "source": [
        "As one can see "
      ]
    },
    {
      "cell_type": "markdown",
      "metadata": {
        "id": "n8T3okRVtfUF",
        "colab_type": "text"
      },
      "source": [
        "## Volatiltiy Clustering"
      ]
    },
    {
      "cell_type": "markdown",
      "metadata": {
        "id": "f0I89TF_D8ET",
        "colab_type": "text"
      },
      "source": [
        "Let's plot the squared log returns to look for evidence of volatility clustering. "
      ]
    },
    {
      "cell_type": "code",
      "metadata": {
        "id": "vpKjQjmirVbb",
        "colab_type": "code",
        "outputId": "37c6f77f-5a46-423f-8381-1f405280498c",
        "colab": {
          "base_uri": "https://localhost:8080/",
          "height": 287
        }
      },
      "source": [
        "%matplotlib inline\n",
        "df['YEAR'] = df['DATE'].astype(str)\n",
        "df['YEAR']= df['YEAR'].str.slice(0, 4, 1)\n",
        "df = df.set_index('YEAR')\n",
        "fig = df.sqlnret.plot(figsize = (30,10), color = 'steelblue')\n",
        "plt.rcParams.update({'font.size': 30})\n",
        "plt.yticks(fontsize = 20)\n",
        "plt.ylim(0,0.01)\n",
        "plt.ylabel('Squared log return', fontsize = 25)\n",
        "plt.xticks(fontsize = 20, rotation = 45)\n",
        "plt.xlabel ('Year', fontsize = 25)\n",
        "plt.title('Squared log returns of the S&P500 1963 - 2019')\n",
        "df = df.reset_index()\n",
        "plt.grid(color = 'grey', alpha = 0.5, linestyle = '--')\n",
        "plt.show()"
      ],
      "execution_count": 0,
      "outputs": [
        {
          "output_type": "display_data",
          "data": {
            "image/png": "[encoded data removed]",
            "text/plain": [
              "<Figure size 2160x720 with 1 Axes>"
            ]
          },
          "metadata": {
            "tags": [],
            "needs_background": "light"
          }
        }
      ]
    },
    {
      "cell_type": "markdown",
      "metadata": {
        "id": "CeJxd3Ssthuu",
        "colab_type": "text"
      },
      "source": [
        "We can clearly see volatility clustering in times of financial distress (global financial crisis, dot-com bubble, etc.)  "
      ]
    },
    {
      "cell_type": "code",
      "metadata": {
        "id": "oFAAvFECkK-3",
        "colab_type": "code",
        "colab": {}
      },
      "source": [
        ""
      ],
      "execution_count": 0,
      "outputs": []
    },
    {
      "cell_type": "code",
      "metadata": {
        "id": "lNUyqeqUmWjf",
        "colab_type": "code",
        "colab": {}
      },
      "source": [
        ""
      ],
      "execution_count": 0,
      "outputs": []
    },
    {
      "cell_type": "markdown",
      "metadata": {
        "id": "k5RpPj10V-Xb",
        "colab_type": "text"
      },
      "source": [
        "# Building the deep neural networks"
      ]
    },
    {
      "cell_type": "markdown",
      "metadata": {
        "id": "jNC2SqqENDwh",
        "colab_type": "text"
      },
      "source": [
        "### Importing Packages"
      ]
    },
    {
      "cell_type": "code",
      "metadata": {
        "id": "3Yn0y9zVWGkV",
        "colab_type": "code",
        "colab": {}
      },
      "source": [
        "import tensorflow\n",
        "from tensorflow.keras.callbacks import CSVLogger\n",
        "from tensorflow.keras.models import Sequential\n",
        "from tensorflow.keras.layers import Dense, LSTM, Dropout\n",
        "from tensorflow.keras.optimizers import Adam\n",
        "import numpy as np"
      ],
      "execution_count": 0,
      "outputs": []
    },
    {
      "cell_type": "code",
      "metadata": {
        "id": "kdUKkWfZD_fh",
        "colab_type": "code",
        "colab": {}
      },
      "source": [
        "#Splitting the data into train and test\n",
        "data = df['spindx'].to_numpy()\n",
        "data = data.reshape(-1,1)\n",
        "data_train = data[:int(0.8*(len(df)))]\n",
        "data_test = data[int(0.8*(len(df))):]"
      ],
      "execution_count": 0,
      "outputs": []
    },
    {
      "cell_type": "code",
      "metadata": {
        "id": "wYfcTCX9wBK4",
        "colab_type": "code",
        "colab": {}
      },
      "source": [
        "#Normalize the data\n",
        "from sklearn.preprocessing import MinMaxScaler\n",
        "scaler = MinMaxScaler()\n",
        "train_scaled = scaler.fit_transform(data_train)\n",
        "test_scaled = scaler.transform(data_test)"
      ],
      "execution_count": 0,
      "outputs": []
    },
    {
      "cell_type": "code",
      "metadata": {
        "id": "4yJH8XIwJr10",
        "colab_type": "code",
        "colab": {}
      },
      "source": [
        "#building time series \n",
        "batch_size = 1\n",
        "features = 1\n",
        "time_steps = 10\n",
        "num_steps_train = len(train_scaled) - time_steps\n",
        "X_train = np.zeros([num_steps_train, time_steps, features])\n",
        "y_train = np.zeros(num_steps_train)\n",
        "for step in range(num_steps_train):\n",
        "  X_train[step, :time_steps] = train_scaled[step:step + time_steps]\n",
        "  y_train[step] = train_scaled[step + time_steps]\n",
        "\n",
        "num_steps_test = len(test_scaled) - time_steps\n",
        "X_test = np.zeros([num_steps_test, time_steps, features])\n",
        "y_test = np.zeros(num_steps_test)\n",
        "for step in range(num_steps_test):  \n",
        "  X_test[step, :time_steps] = test_scaled[step:step + time_steps]\n",
        "  y_test[step] = test_scaled[step + time_steps]\n"
      ],
      "execution_count": 0,
      "outputs": []
    },
    {
      "cell_type": "markdown",
      "metadata": {
        "id": "nEXtovCfM3LW",
        "colab_type": "text"
      },
      "source": [
        "## Building the LSTM Model"
      ]
    },
    {
      "cell_type": "code",
      "metadata": {
        "id": "Z2QkqVaQJyuv",
        "colab_type": "code",
        "outputId": "6d0e990d-ea8d-45ce-ecd1-81e3f9587bd8",
        "colab": {
          "base_uri": "https://localhost:8080/",
          "height": 1000
        }
      },
      "source": [
        "#Version 2\n",
        "lr = 0.001\n",
        "decay = 1e-6\n",
        "optimizer = Adam()\n",
        "\n",
        "model = Sequential()\n",
        "#ohne Aktivierungsfunktion wird automatisch ein CuDNNLSTM verwendet, was deutlich schleer sein soll\n",
        "model.add(LSTM(256, input_shape = X_train.shape[1:], return_sequences = True))\n",
        "model.add(Dropout(0.2))\n",
        "model.add(LSTM(128, return_sequences = True))\n",
        "model.add(Dropout(0.2))\n",
        "model.add(LSTM(128))\n",
        "model.add(Dropout(0.2))\n",
        "model.add(Dense(256,activation='relu'))\n",
        "model.add(Dropout(0.2))\n",
        "model.add(Dense(128,activation='relu'))\n",
        "model.add(Dropout(0.2))\n",
        "model.add(Dense(64,activation='relu'))\n",
        "model.add(Dropout(0.2))\n",
        "model.add(Dense(32,activation='relu'))\n",
        "model.add(Dropout(0.2))\n",
        "model.add(Dense(1))\n",
        "model.compile(loss='mean_squared_error', \n",
        "                   optimizer=optimizer)\n",
        " \n",
        "#csv_logger = CSVLogger(('log_file' + '.log'), append=True)\n",
        "\n",
        "history_LSTM = model.fit(X_train, y_train, epochs=50, batch_size=64)"
      ],
      "execution_count": 0,
      "outputs": [
        {
          "output_type": "stream",
          "text": [
            "Epoch 1/50\n",
            "180/180 [==============================] - 19s 107ms/step - loss: 0.0141\n",
            "Epoch 2/50\n",
            "180/180 [==============================] - 20s 110ms/step - loss: 0.0055\n",
            "Epoch 3/50\n",
            "180/180 [==============================] - 19s 107ms/step - loss: 0.0041\n",
            "Epoch 4/50\n",
            "180/180 [==============================] - 19s 104ms/step - loss: 0.0037\n",
            "Epoch 5/50\n",
            "180/180 [==============================] - 19s 104ms/step - loss: 0.0033\n",
            "Epoch 6/50\n",
            "180/180 [==============================] - 19s 103ms/step - loss: 0.0032\n",
            "Epoch 7/50\n",
            "180/180 [==============================] - 19s 105ms/step - loss: 0.0031\n",
            "Epoch 8/50\n",
            "180/180 [==============================] - 19s 107ms/step - loss: 0.0030\n",
            "Epoch 9/50\n",
            "180/180 [==============================] - 19s 104ms/step - loss: 0.0028\n",
            "Epoch 10/50\n",
            "180/180 [==============================] - 19s 104ms/step - loss: 0.0029\n",
            "Epoch 11/50\n",
            "180/180 [==============================] - 19s 104ms/step - loss: 0.0026\n",
            "Epoch 12/50\n",
            "180/180 [==============================] - 19s 107ms/step - loss: 0.0027\n",
            "Epoch 13/50\n",
            "180/180 [==============================] - 19s 107ms/step - loss: 0.0025\n",
            "Epoch 14/50\n",
            "180/180 [==============================] - 23s 126ms/step - loss: 0.0027\n",
            "Epoch 15/50\n",
            "180/180 [==============================] - 19s 104ms/step - loss: 0.0026\n",
            "Epoch 16/50\n",
            "180/180 [==============================] - 19s 104ms/step - loss: 0.0025\n",
            "Epoch 17/50\n",
            "180/180 [==============================] - 19s 107ms/step - loss: 0.0025\n",
            "Epoch 18/50\n",
            "180/180 [==============================] - 19s 103ms/step - loss: 0.0025\n",
            "Epoch 19/50\n",
            "180/180 [==============================] - 19s 103ms/step - loss: 0.0025\n",
            "Epoch 20/50\n",
            "180/180 [==============================] - 19s 103ms/step - loss: 0.0024\n",
            "Epoch 21/50\n",
            "180/180 [==============================] - 19s 106ms/step - loss: 0.0024\n",
            "Epoch 22/50\n",
            "180/180 [==============================] - 19s 106ms/step - loss: 0.0023\n",
            "Epoch 23/50\n",
            "180/180 [==============================] - 18s 103ms/step - loss: 0.0024\n",
            "Epoch 24/50\n",
            "180/180 [==============================] - 18s 102ms/step - loss: 0.0024\n",
            "Epoch 25/50\n",
            "180/180 [==============================] - 18s 102ms/step - loss: 0.0024\n",
            "Epoch 26/50\n",
            "180/180 [==============================] - 19s 105ms/step - loss: 0.0024\n",
            "Epoch 27/50\n",
            "180/180 [==============================] - 19s 107ms/step - loss: 0.0024\n",
            "Epoch 28/50\n",
            "180/180 [==============================] - 19s 104ms/step - loss: 0.0023\n",
            "Epoch 29/50\n",
            "180/180 [==============================] - 20s 108ms/step - loss: 0.0022\n",
            "Epoch 30/50\n",
            "180/180 [==============================] - 19s 106ms/step - loss: 0.0023\n",
            "Epoch 31/50\n",
            "180/180 [==============================] - 20s 109ms/step - loss: 0.0023\n",
            "Epoch 32/50\n",
            "180/180 [==============================] - 19s 105ms/step - loss: 0.0023\n",
            "Epoch 33/50\n",
            "180/180 [==============================] - 18s 103ms/step - loss: 0.0022\n",
            "Epoch 34/50\n",
            "180/180 [==============================] - 19s 105ms/step - loss: 0.0023\n",
            "Epoch 35/50\n",
            "180/180 [==============================] - 19s 106ms/step - loss: 0.0023\n",
            "Epoch 36/50\n",
            "180/180 [==============================] - 18s 103ms/step - loss: 0.0022\n",
            "Epoch 37/50\n",
            "180/180 [==============================] - 19s 103ms/step - loss: 0.0022\n",
            "Epoch 38/50\n",
            "180/180 [==============================] - 19s 106ms/step - loss: 0.0022\n",
            "Epoch 39/50\n",
            "180/180 [==============================] - 19s 106ms/step - loss: 0.0023\n",
            "Epoch 40/50\n",
            "180/180 [==============================] - 18s 103ms/step - loss: 0.0021\n",
            "Epoch 41/50\n",
            "180/180 [==============================] - 18s 102ms/step - loss: 0.0022\n",
            "Epoch 42/50\n",
            "180/180 [==============================] - 19s 103ms/step - loss: 0.0022\n",
            "Epoch 43/50\n",
            "180/180 [==============================] - 19s 103ms/step - loss: 0.0023\n",
            "Epoch 44/50\n",
            "180/180 [==============================] - 18s 103ms/step - loss: 0.0022\n",
            "Epoch 45/50\n",
            "180/180 [==============================] - 19s 104ms/step - loss: 0.0021\n",
            "Epoch 46/50\n",
            "180/180 [==============================] - 19s 103ms/step - loss: 0.0023\n",
            "Epoch 47/50\n",
            "180/180 [==============================] - 19s 104ms/step - loss: 0.0022\n",
            "Epoch 48/50\n",
            "135/180 [=====================>........] - ETA: 4s - loss: 0.0021"
          ],
          "name": "stdout"
        }
      ]
    },
    {
      "cell_type": "code",
      "metadata": {
        "id": "KS-c0QaCOTsY",
        "colab_type": "code",
        "colab": {}
      },
      "source": [
        "model.save(\"LSTM.h5\")"
      ],
      "execution_count": 0,
      "outputs": []
    },
    {
      "cell_type": "code",
      "metadata": {
        "id": "I7SWkhz_wLsS",
        "colab_type": "code",
        "colab": {}
      },
      "source": [
        "y_pred = model.predict(X_test)"
      ],
      "execution_count": 0,
      "outputs": []
    },
    {
      "cell_type": "code",
      "metadata": {
        "id": "LIeOyM76wPCw",
        "colab_type": "code",
        "colab": {}
      },
      "source": [
        "y_pred = model.predict(X_test)\n",
        "plt.plot(y_pred, label = 'pred')\n",
        "plt.plot(y_test, label = 'actual')\n",
        "plt.legend()\n",
        "plt.show()"
      ],
      "execution_count": 0,
      "outputs": []
    },
    {
      "cell_type": "markdown",
      "metadata": {
        "id": "4N_Hi2oq38JT",
        "colab_type": "text"
      },
      "source": [
        "## Building a commonly used deep neural network"
      ]
    },
    {
      "cell_type": "code",
      "metadata": {
        "id": "4S1Kk9Ct40fA",
        "colab_type": "code",
        "colab": {}
      },
      "source": [
        "#building time series \n",
        "batch_size = 1\n",
        "time_steps = 10\n",
        "num_steps = len(df) - time_steps\n",
        "X = np.zeros([num_steps, time_steps])\n",
        "y = np.zeros(num_steps)\n",
        "\n",
        "for step in range(num_steps):\n",
        "  X[step, :time_steps] = df['spindx'][step:step + time_steps]\n",
        "  y[step] = df['spindx'][step + time_steps]\n",
        "\n",
        "#split the data\n",
        "X_train = X[:int(0.8*len(df)), :time_steps]\n",
        "X_test = X[int(0.8*len(df))+1:, :time_steps]\n",
        "\n",
        "y_train = y[:int(0.8*len(df))]\n",
        "y_test = y[int(0.8*len(df))+1:] "
      ],
      "execution_count": 0,
      "outputs": []
    },
    {
      "cell_type": "code",
      "metadata": {
        "id": "r83ZqaC14AFx",
        "colab_type": "code",
        "colab": {}
      },
      "source": [
        "model = Sequential()\n",
        "#ohne Aktivierungsfunktion wird automatisch ein CuDNNLSTM verwendet, was deutlich schleer sein soll\n",
        "model.add(Dense(256,activation='relu', input_shape = X_train.shape[1:]))\n",
        "model.add(Dropout(0.2))\n",
        "model.add(Dense(128,activation='relu'))\n",
        "model.add(Dropout(0.2))\n",
        "model.add(Dense(128,activation='relu'))\n",
        "model.add(Dropout(0.2))\n",
        "model.add(Dense(128,activation='relu'))\n",
        "model.add(Dropout(0.2))\n",
        "model.add(Dense(64,activation='relu'))\n",
        "model.add(Dropout(0.2))\n",
        "model.add(Dense(32,activation='relu'))\n",
        "model.add(Dropout(0.2))\n",
        "model.add(Dense(1))\n",
        "model.compile(loss='mean_squared_error', \n",
        "                   optimizer=optimizer)\n",
        " \n",
        "#csv_logger = CSVLogger(('log_file' + '.log'), append=True)\n",
        "\n",
        "history_DNN = model.fit(X_train, y_train, epochs=50, batch_size=64)"
      ],
      "execution_count": 0,
      "outputs": []
    },
    {
      "cell_type": "code",
      "metadata": {
        "id": "74hYQMudOafd",
        "colab_type": "code",
        "colab": {}
      },
      "source": [
        "model.save('DNN.h5')"
      ],
      "execution_count": 0,
      "outputs": []
    },
    {
      "cell_type": "code",
      "metadata": {
        "id": "prcvHSwK4RIn",
        "colab_type": "code",
        "colab": {}
      },
      "source": [
        "y_pred = model.predict(X_test)"
      ],
      "execution_count": 0,
      "outputs": []
    },
    {
      "cell_type": "code",
      "metadata": {
        "id": "txyiljHt4g2X",
        "colab_type": "code",
        "colab": {}
      },
      "source": [
        "plt.plot(y_pred, label = 'pred')\n",
        "plt.plot(y_test, label = 'actual')\n",
        "plt.legend()\n",
        "plt.show()"
      ],
      "execution_count": 0,
      "outputs": []
    },
    {
      "cell_type": "code",
      "metadata": {
        "id": "NPM1VNYf5o4r",
        "colab_type": "code",
        "colab": {}
      },
      "source": [
        ""
      ],
      "execution_count": 0,
      "outputs": []
    }
  ]
}